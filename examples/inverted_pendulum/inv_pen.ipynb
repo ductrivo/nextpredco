{
 "cells": [
  {
   "cell_type": "markdown",
   "metadata": {},
   "source": [
    "<img src=\"assets/inverted_pendulum_on_cart.png\" height=400 />\n"
   ]
  },
  {
   "cell_type": "markdown",
   "metadata": {},
   "source": [
    "## Modelling the pendulum on cart\n",
    "### Total Kinetic Energy\n",
    "Kinetic energy of the cart:\n",
    "$\\begin{align} K_\\text{cart} = \\dfrac{1}{2} M\\dot{x}^2. \\end{align}$\n",
    "\n",
    "Kinetic energy of the pendulum: \n",
    "$\\begin{align} K_m = \\dfrac{1}{2} m \\left(\\dot{x}_m^2 + \\dot{y}_m^2\\right)^2,\\end{align}$\n",
    "where the velocities are calculated as follow:\n",
    "$\\begin{align}\n",
    "x_m &= x + l sin(\\theta) &&\\Rightarrow& \\dot{x}_m &= \\dot{x} + l \\dot{\\theta} \\cos \\theta,\\\\\n",
    "y_m &= l \\cos\\theta &&\\Rightarrow& \\dot{y}_m &= -l \\dot{\\theta}\\sin \\theta.\n",
    "\\end{align}$\n",
    "\n",
    "Thus,\n",
    "$\\begin{align} K_m = \\dfrac{1}{2} m (\\dot{x}^2 + 2l\\dot{x}\\dot{\\theta}\\cos\\theta + l^2 \\dot{\\theta}^2) \\end{align}$\n",
    "\n",
    "Finally, the total kinetic energy is given by:\n",
    "$\\begin{align} K= K_\\text{cart} + K_m = \\dfrac{1}{2} M \\dot{x}^2 + \\dfrac{1}{2}m(\\dot{x}^2 + 2l\\dot{x}\\dot{\\theta}\\cos\\theta + l^2 \\dot{\\theta}^2)\\end{align}$\n",
    "\n",
    "### Total Potential Energy\n",
    "In this case, we have only potential energy involved in the pendulum mass: $\\begin{align}P_m = mgy_m = mgl\\cos \\theta \\end{align}$\n",
    "\n",
    "### The Lagrangian equation\n",
    "The Lagrangian function:\n",
    "$\\begin{align}\\mathcal{L} = \\dfrac{1}{2} M\\dot{x}^2 + \\dfrac{1}{2}m(\\dot{x}^2 + 2l\\dot{x}\\dot{\\theta}\\cos\\theta + l^2 \\dot{\\theta}^2) - mgl \\cos\\theta \\end{align}$\n",
    "\n",
    "Choosing the generalized coordinations $\\mathbf{q} = [x,\\, \\theta]^T$, we can derive the Lagrangian equation as follows:\n",
    "$\\begin{align}\n",
    "    \\dfrac{\\text{d}}{\\text{d} t} \\left(\\dfrac{\\partial \\mathcal{L}}{\\partial \\dot{x}}\\right) - \\dfrac{\\partial \\mathcal{L}}{\\partial x} = F,\\\\\n",
    "    \\dfrac{\\text{d}}{\\text{d} t} \\left(\\dfrac{\\partial \\mathcal{L}}{\\partial \\dot{\\theta}}\\right) - \\dfrac{\\partial \\mathcal{L}}{\\partial \\theta} = 0.\n",
    "\\end{align}$\n",
    "\n",
    "The derivatives are:\n",
    "$\\begin{align}\n",
    "\\dfrac{\\text{d}}{\\text{d} t} \\left(\\dfrac{\\partial \\mathcal{L}}{\\partial \\dot{x}}\\right) &= \\dfrac{\\text{d}}{\\text{d} t} \\left((M + m)\\dot{x} + ml\\dot{\\theta}\\cos\\theta \\right) = \\left(M + m\\right)\\ddot{x} + ml\\ddot{\\theta}\\cos\\theta - ml\\dot{\\theta}^2\\sin\\theta,\\\\\n",
    "%\n",
    "\\dfrac{\\partial \\mathcal{L}}{\\partial x} &= 0,\\\\\n",
    "%\n",
    "\\dfrac{\\text{d}}{\\text{d} t} \\left(\\dfrac{\\partial \\mathcal{L}}{\\partial \\dot{\\theta}}\\right) &= \\dfrac{\\text{d}}{\\text{d} t} \\left(ml\\dot{x}\\cos\\theta + ml^2\\dot{\\theta}^2 \\right)= ml\\left(\\ddot{x} \\cos \\theta - \\dot{\\theta} \\dot{x} \\sin\\theta\\right) + ml^2 \\ddot{\\theta},\\\\\n",
    "%\n",
    "\\dfrac{\\partial \\mathcal{L}}{\\partial \\theta} &=  mgl \\sin \\theta -ml \\dot{x} \\dot{\\theta} \\sin \\theta\n",
    "\\end{align}$\n",
    "\n",
    "Thus the dynamical model of the system is:\n",
    "$\\begin{align}\n",
    "\\left(M + m\\right)\\ddot{x} + ml\\ddot{\\theta}\\cos\\theta - ml\\dot{\\theta}^2\\sin\\theta &= F,\\\\\n",
    "%\n",
    "ml\\left(\\ddot{x} \\cos \\theta - \\dot{\\theta} \\dot{x} \\sin\\theta\\right) + ml^2 \\ddot{\\theta} - (mgl \\sin \\theta -ml \\dot{x} \\dot{\\theta} \\sin \\theta) &= 0\n",
    "\\end{align}$\n",
    "\n",
    "Finally:\n",
    "$\\begin{align}\n",
    "\\ddot{x} - \\dfrac{ml}{M + m}\\cdot \\sin{\\theta} \\cdot \\dot{\\theta}^2 + \\dfrac{ml}{M + m} \\cdot \\cos{\\theta} \\cdot \\ddot{\\theta} &= \\dfrac{F}{M+m},\\\\\n",
    "%\n",
    "\\ddot{\\theta} - \\dfrac{g}{l} \\cdot \\sin \\theta + ml\\cos{\\theta} \\ddot{x} &= 0\n",
    "\\end{align}$"
   ]
  },
  {
   "cell_type": "code",
   "execution_count": null,
   "metadata": {},
   "outputs": [],
   "source": [
    "import sympy as sp\n",
    "\n",
    "t = sp.Symbol('t')\n",
    "x = sp.Function('x')(t)\n",
    "theta = sp.Function('theta')(t)\n",
    "\n",
    "m_cart = sp.Symbol('m_\\\\text{cart}')\n",
    "m = sp.Symbol('m')\n",
    "length = sp.Symbol('l')\n",
    "g = sp.Symbol('g')\n",
    "f = sp.Symbol('f')\n",
    "\n",
    "k_cart = 0.5 * m_cart * sp.diff(x, t) ** 2\n",
    "\n",
    "xm = x + length * sp.sin(theta)\n",
    "ym = length * sp.cos(theta)\n",
    "\n",
    "km = 0.5 * m * (sp.diff(xm, t) ** 2 + sp.diff(ym, t) ** 2)\n",
    "\n",
    "k_total = k_cart + km\n",
    "\n",
    "potential = m * g * ym\n",
    "\n",
    "lagrangian = k_total - potential\n",
    "\n",
    "eq1 = (\n",
    "    sp.diff(sp.diff(lagrangian, sp.diff(x, t)), t) - sp.diff(lagrangian, x) - f\n",
    ")\n",
    "eq2 = sp.diff(sp.diff(lagrangian, sp.diff(theta, t)), t) - sp.diff(\n",
    "    lagrangian, theta\n",
    ")"
   ]
  },
  {
   "cell_type": "markdown",
   "metadata": {},
   "source": [
    "## DC Motor\n",
    "The armature circuit:\n",
    "$\\begin{align}L_m \\dot{i}_m + i_mR_m + v_b = v_m.\\end{align}$\n",
    "\n",
    "The back electromotive force (emf):\n",
    "$\\begin{align}v_b = K_b\\dot{\\phi}_m,\\end{align}$\n",
    "where $K_\\text{emf}$ is the back emf constant.\n",
    "\n",
    "The motor torque:\n",
    "$\\begin{align}\\tau_m = K_t i_m,\\end{align}$\n",
    "where $K_t$ is the motor torque constant.\n",
    "\n",
    "Thus,\n",
    "$\\begin{align}\\dfrac{L_m}{K_t} \\cdot \\dot{\\tau}_m + \\dfrac{R_m}{K_t} \\cdot \\tau_m + K_b\\dot{\\phi}_m = v_m.\\end{align}$\n",
    "\n",
    "If $L_m$ is small and is negligible,\n",
    "$\\begin{align}\\dfrac{R_m}{K_t} \\cdot \\tau_m + K_b\\dot{\\phi}_m = v_m \\Leftrightarrow \\tau_m = \\left(v_m - K_b\\dot{\\phi}_m\\right) \\cdot \\dfrac{K_t}{R_m}.\\end{align}$\n",
    "\n",
    "Power transmission:\n",
    "$\\begin{gather}\n",
    "G = \\dfrac{\\tau_m}{r F} = \\dfrac{\\dot{x}}{r\\dot{\\phi}_m} \\Rightarrow \\dot{\\phi}_m = \\dfrac{\\dot{x}}{rG}.\n",
    "\\end{gather}\n",
    "$\n",
    "\n",
    "Finally:\n",
    "$\\begin{gather}\n",
    "F = \\dfrac{\\tau_m}{rG} = \\left(v_m - K_b\\dot{\\phi}_m\\right) \\cdot \\dfrac{K_t}{rGR_m} = \\left(v_m - \\dfrac{K_b}{rG} \\cdot \\dot{x}\\right) \\cdot \\dfrac{K_t}{rGR_m} = \\dfrac{K_t}{rGR_m} \\cdot v_m - \\dfrac{K_b K_t}{r^2G^2R_m} \\cdot \\dot{x}\n",
    "\\end{gather}$\n"
   ]
  },
  {
   "cell_type": "markdown",
   "metadata": {},
   "source": [
    "$\\begin{align}\n",
    "\\left(M + m\\right)\\ddot{x} + ml\\ddot{\\theta}\\cos\\theta - ml\\dot{\\theta}^2\\sin\\theta &= F,\\\\\n",
    "%\n",
    "ml^2 \\ddot{\\theta} - mgl \\sin \\theta + ml\\ddot{x} \\cos \\theta &= 0\n",
    "\\end{align}$"
   ]
  },
  {
   "cell_type": "markdown",
   "metadata": {},
   "source": []
  },
  {
   "cell_type": "code",
   "execution_count": null,
   "metadata": {},
   "outputs": [],
   "source": [
    "r = sp.Symbol('r')\n",
    "tau_m = sp.Symbol('\\\\tau_m')\n",
    "phi_m = sp.Symbol('\\\\phi_m')\n",
    "kb = sp.Symbol('K_b')\n",
    "kt = sp.Symbol('K_t')\n",
    "kc = sp.Symbol('K_c')\n",
    "ratio = sp.Symbol('G')"
   ]
  },
  {
   "cell_type": "code",
   "execution_count": null,
   "metadata": {},
   "outputs": [],
   "source": []
  }
 ],
 "metadata": {
  "kernelspec": {
   "display_name": ".venv",
   "language": "python",
   "name": "python3"
  },
  "language_info": {
   "codemirror_mode": {
    "name": "ipython",
    "version": 3
   },
   "file_extension": ".py",
   "mimetype": "text/x-python",
   "name": "python",
   "nbconvert_exporter": "python",
   "pygments_lexer": "ipython3",
   "version": "3.12.8"
  }
 },
 "nbformat": 4,
 "nbformat_minor": 2
}
